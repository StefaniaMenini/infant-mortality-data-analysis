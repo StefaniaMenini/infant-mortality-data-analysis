{
 "cells": [
  {
   "cell_type": "markdown",
   "metadata": {},
   "source": [
    "<hr style=\"height:1px;border:none;color:#333;background-color:#333;\" />\n",
    "<hr style=\"height:1px;border:none;color:#333;background-color:#333;\" />\n",
    "<br><br>\n",
    "\n",
    "# Data Analysis Team Project\n",
    "<em>Infant mortality rate: a study around the main key drivers in Northern Sub-Saharan Africa </em>\n",
    "<br><br><br><br>\n",
    "\n",
    "\n",
    "<div style = \"width:image width px; font-size:80%; text-align:center;\"><img src=./azithro-l.jpeg width=\"700\" height=\"300\" style=\"padding-bottom:0.5em;\"> \n",
    "<br><br>\n",
    "\n",
    "    \n",
    "**Team 5** <br>\n",
    "Akwasi Awuah, <br>\n",
    "Kevin Chansukree, <br>\n",
    "Miriam Lucia Morfin Gonzalez, <br>\n",
    "Stefania Menini<br>\n",
    "<br><br>\n",
    "\n",
    "<hr style=\"height:1px;border:none;color:#333;background-color:#333;\" />\n",
    "<hr style=\"height:1px;border:none;color:#333;background-color:#333;\" />\n"
   ]
  },
  {
   "cell_type": "markdown",
   "metadata": {},
   "source": [
    "<br><br><br><br><br>\n",
    "\n",
    "<div style = \"font-size:95%; text-align:center;\"><em>The objective of the present team project is to identify the main drivers of infant mortality in Northern Sub-Saharan Africa. <br> Therefore, the following data analysis and manipulation have been carried only on those indicators that are strictly related to the chosen topic.</em>\n",
    "    \n",
    "<br><br><br><br><br><br>\n",
    "\n",
    "<hr style=\"height:1px;border:none;color:#333;background-color:#333;\" />\n",
    "<hr style=\"height:1px;border:none;color:#333;background-color:#333;\" />"
   ]
  },
  {
   "cell_type": "markdown",
   "metadata": {
    "cell_style": "split"
   },
   "source": [
    "<h1><span style='color:steelblue'>Northern Sub-Saharan Africa</h1>\n",
    "<em><span style='color:steelblue'>A Quick Overview </em><br>\n",
    "\n",
    "<br>\n",
    "North Sub-Saharan Africa, halfway between North Africa and West Africa, is a beating heart where races, religions, ethnic groups, and cultures mix at a constant pace following the routes of the trade migration. \n",
    "<br><br>\n",
    "Invasions and growing migratory flows of Greeks, Phoenicians, Egyptians, Romans, Vandals, Arabs, and Europeans have shaped and reshaped North Sub-Saharan Africa over the centuries giving the region unique characteristics. \n",
    "<br><br>\n",
    "Nowadays, North African Berbers and West Africans are the main ethnic groups in the area, among which the prevailing religion is Muslim with a Jewish, Christian, and Copts minority. As in the religious belief, also in the language, there is a great variety: the Barber language dominate, flanked by French or several types of Arabic. \n",
    "<br><br>\n",
    "From an economic point of view, Egypt, Algeria, Morocco, Sudan, and Tunisia boast the reputation of the North Sub-Saharan largest economies, thanks to the recent economic reforms implemented primarily in the public sector.  The economic growth and stability in the North Sub-Saharan region are expected to strengthen. However, several challenges still have to be faced to properly reinforce substantial structural vulnerabilities, such as shortage of jobs, high political risk, healthcare insecurity and weak fiscal consolidation.\n",
    "<br>"
   ]
  },
  {
   "cell_type": "markdown",
   "metadata": {
    "cell_style": "split"
   },
   "source": [
    "<br><br>\n",
    "<div style = \"width:image width px; font-size:80%; text-align:center;\"></div><img src=./Northern_Sub_Saharan_Africa_2.png width=\"600\" height=\"1000\" style=\"padding-bottom:0.5em;\"><div style = \"width:image width px; font-size:80%; text-align:right;\"><em>Figure 1: Northen Sub-Saharan Africa Map.</em></div>\n",
    "<br><br><br><br>"
   ]
  },
  {
   "cell_type": "markdown",
   "metadata": {},
   "source": [
    "<hr style=\"height:1px;border:none;color:#333;background-color:#333;\" />\n",
    "<hr style=\"height:1px;border:none;color:#333;background-color:#333;\" />\n",
    "<br>\n",
    "<h1><span style='color:steelblue'> Northern Sub-Saharan Africa </span></h1>\n",
    "<em><span style='color:steelblue'>Dataset Available</em><br>\n",
    "<br><br>\n",
    "<em><span style='color:gainsboro'> ------------------------------------------------------------------------------------------------------------------------------------------------------------------------------------</em><br><br>\n",
    "Please, run the code to display the entire dataset available to the Team.<br><br>\n",
    "<em><span style='color:gainsboro'> ------------------------------------------------------------------------------------------------------------------------------------------------------------------------------------</em><br>"
   ]
  },
  {
   "cell_type": "code",
   "execution_count": null,
   "metadata": {},
   "outputs": [],
   "source": [
    "# Importing packages\n",
    "import pandas as pd\n",
    "import numpy as np\n",
    "import matplotlib.pyplot as plt \n",
    "import matplotlib.colors as mcolors\n",
    "import seaborn as sns \n",
    "\n",
    "# Specifying the file \n",
    "file = './final_project_dataset.xlsx'\n",
    "\n",
    "# Reading the file into Python through pandas\n",
    "final_prj_data = pd.read_excel(io         = file,\n",
    "                         sheet_name = 'Data',\n",
    "                         header     = 0)\n",
    "\n",
    "# Making variable for country codename location\n",
    "codename = final_prj_data.loc[ : , 'Cool Name'] == 'Bumblebee'\n",
    "NAPRJ = final_prj_data[codename] \n",
    "\n",
    "# Diplaying the Northern Sub-Saharan Africa dataset\n",
    "NAPRJ"
   ]
  },
  {
   "cell_type": "markdown",
   "metadata": {},
   "source": [
    "<em><span style='color:gainsboro'> ------------------------------------------------------------------------------------------------------------------------------------------------------------------------------------</em><br><br>\n",
    "Based on the objective of the present data analysis project, the previous dataset has been filtered to display only those indicators highly related to the chosen topic. Please, run the code to display the filtered dataset, which will be used during the following data analysis.<br><br>\n",
    "<em><span style='color:gainsboro'> ------------------------------------------------------------------------------------------------------------------------------------------------------------------------------------</em><br>"
   ]
  },
  {
   "cell_type": "code",
   "execution_count": null,
   "metadata": {},
   "outputs": [],
   "source": [
    "# Filtering only those indicators related to the chosen topic \n",
    "filter_NAPRJ = NAPRJ.iloc[ :, [1, 8, 20, 21, 22, 23, 24, 29, 31, 32, 35, 37, 40]]\n",
    "filter_NAPRJ # Display the result of the filter"
   ]
  },
  {
   "cell_type": "markdown",
   "metadata": {},
   "source": [
    "<br>\n",
    "<hr style=\"height:1px;border:none;color:#333;background-color:#333;\" />\n",
    "<hr style=\"height:1px;border:none;color:#333;background-color:#333;\" />\n",
    "<br>\n",
    "<h1><span style='color:steelblue'>Obscure Findings</h1>\n",
    "<em><span style='color:steelblue'>Main Obscure Findings in the Northern Sub-Saharan Africa Data</em><br>\n",
    "<br>\n",
    "<br><em><span style='color:steelblue'><strong>#1 Obscure Finding<strong></em> <br>\n",
    "<em><span style='color:steelblue'>Dates Discrepancy</em>\n",
    "<br><br>\n",
    "An external research has identified discrepancies in the years in which the indicator's data have been reported for each country within the region. For most indicators, according to WHO, some of the countries have a more recent dataset available.  For example, Egypt’s recorded data for birth attended by skilled health staff (%) was 78.9  in 2008, but a second research has revealed a more recent survey conducted in 2014 indicating a value of 92.\n",
    "<br><br>\n",
    "<br><em><span style='color:steelblue'><strong>#2 Obscure Finding<strong></em> <br>\n",
    "<em><span style='color:steelblue'>The Role of Organizations</em>\n",
    "<br><br>\n",
    "Organizations tasked to collect data for certain indicators were different across countries, therefore cadres may not be in alignment with the indicator's standard definition. <br>\n",
    "For instance, although UNICEF formed the organization \"Multiple Indicator Cluster Survey (MICS)\",  which aims to assists countries in the data collection and analysis in efforts to fill in gaps for monitoring the situation of women and children, only countries like Algeria, Mauritania, Sudan, and Tunisia that employed its assistance.  Countries like Egypt and Mali tasking, instead, their \"Demographic and Health Survey Programs (DHS)\", which work closely with UNICEF to harmonize definitions and methodologies. While countries like Niger, Morocco, and Libya tasked their own \"Ministry of Statistics\" or \"Ministry of Health\" to carry out surveys. To conclude, the heterogeneity in the Organizations involved might determine discrepancies in values recorded because of the methodologies and measurements used.\n",
    "<br><br>\n",
    "<br><em><span style='color:steelblue'><strong>#3 Obscure Finding<strong></em> <br>\n",
    "<em><span style='color:steelblue'>Fragile States: the example of Sudan and Libya</em>\n",
    "<br><br> \n",
    "The stability in the region greatly affects the accuracy of the data collected. <br>\n",
    "Nowadays, Chad, Libya, and Sudan in the Northern Sub-Saharan African region are \"fragile states\", where instability from civil war and poverty is affecting the ability to collect data accurately. \n",
    "While international organizations like WHO avoid sending their division to collect data due to the high political risk, the local organizations designed to collect data face the Government resistance, who prefer to allocate the national resources to fight the insurgency. <br>\n",
    "According to Indexmundi, Libya has recorded a value of 9 in 2014 for the maternal-mortality-rate, which exponentially raised just a year later. A similar discrepancy in the data collected can be found also in Chad, where the real values are greater than the recorded data."
   ]
  },
  {
   "cell_type": "markdown",
   "metadata": {},
   "source": [
    "<hr style=\"height:1px;border:none;color:#333;background-color:#333;\" />\n",
    "<hr style=\"height:1px;border:none;color:#333;background-color:#333;\" />\n",
    "<br>\n",
    "<h1><span style='color:steelblue'>Missing Values</h1>\n",
    "<em><span style='color:steelblue'>The Chosen Strategies</em><br>\n",
    "<br>\n"
   ]
  },
  {
   "cell_type": "markdown",
   "metadata": {},
   "source": [
    "Within the filtered datasets, filter_NAPRJ, several missing values has been detected using the following chaining method: filter_NAPRJ.isnull().sum(axis = 0). <br><br>\n",
    "<em><span style='color:gainsboro'> ------------------------------------------------------------------------------------------------------------------------------------------------------------------------------------</em><br>"
   ]
  },
  {
   "cell_type": "code",
   "execution_count": null,
   "metadata": {},
   "outputs": [],
   "source": [
    "# Checking the presence of missing values within filter_NAPRJ\n",
    "print(filter_NAPRJ.isnull().sum(axis = 0))"
   ]
  },
  {
   "cell_type": "markdown",
   "metadata": {},
   "source": [
    "<em><span style='color:gainsboro'> ------------------------------------------------------------------------------------------------------------------------------------------------------------------------------------</em><br><br>\n",
    "<em><span style='color:steelblue'><strong>#1 Strategy<strong></em> <br>\n",
    "<em><span style='color:steelblue'>Imputing the mode </em><br>\n",
    "<br>\n",
    "The first strategy adopted to handle missing values is imputing with the mode the \"Improved water source (% of the population with access)\" indicator's missing value. To properly choose which strategy to use, the indicator's data distribution has been visually examined. Therefore, to avoid complications in the \n",
    "visual representation of the data distribution, the missing value has been dropped.\n",
    "<br><br>\n",
    "The following visualization displays the filter_NAPRJ_dropped distribution. <br>\n",
    "Since it is a multimodal distribution, the most accurate measure of central tendency is the mode. <br>\n",
    "<em><span style='color:gainsboro'> ------------------------------------------------------------------------------------------------------------------------------------------------------------------------------------</em><br>"
   ]
  },
  {
   "cell_type": "code",
   "execution_count": null,
   "metadata": {
    "cell_style": "center",
    "scrolled": true
   },
   "outputs": [],
   "source": [
    "# Dropping missing values within the selected subset to avoid complications when generating plots\n",
    "filter_NAPRJ_dropped = pd.DataFrame.copy(filter_NAPRJ)\n",
    "\n",
    "\n",
    "# Using dropna() to drop the subset's missing values\n",
    "filter_NAPRJ_dropped = filter_NAPRJ_dropped.dropna(subset=['Improved water source (% of population with access)']).round(2)\n",
    "\n",
    "\n",
    "# Figure size\n",
    "fig, ax = plt.subplots(figsize = [10, 15])\n",
    "\n",
    "\n",
    "\n",
    "# Plotting multiple visuals in the same plot area\n",
    "plt.subplot(3, 1, 1)\n",
    "\n",
    "\n",
    "# Histogram for improved water source \n",
    "sns.distplot(a     = filter_NAPRJ_dropped['Improved water source (% of population with access)'],\n",
    "             bins  = 'fd',\n",
    "             hist  = True,\n",
    "             kde   = True,\n",
    "             rug   = False,\n",
    "             color = 'steelblue')\n",
    "\n",
    "\n",
    "# Adding vertical lines \n",
    "plt.axvline(x = filter_NAPRJ_dropped['Improved water source (% of population with access)'].mode().item(),\n",
    "            color = 'red')\n",
    "\n",
    "\n",
    "# Adding the plot title\n",
    "plt.title(label = \"Improved water source in Northern Sub-Saharan Africa dataset\\n\")\n",
    "plt.legend(labels = ['Krenel Density Estimate', 'Mode', 'Frequency'])\n",
    "\n",
    "# Adding the axis labels\n",
    "plt.xlabel(xlabel = '% of population with water source access')\n",
    "plt.ylabel(ylabel = 'Frequency\\n')\n",
    "\n",
    "\n",
    "# Displaying the plot \n",
    "plt.tight_layout()\n",
    "plt.show()"
   ]
  },
  {
   "cell_type": "markdown",
   "metadata": {},
   "source": [
    " <em><span style='color:gainsboro'> ------------------------------------------------------------------------------------------------------------------------------------------------------------------------------------</em><br><br>\n",
    "Imputed the indicator's missing value with the mode, the following visualization overlaps the original distribution, filter_NAPRJ, and imputed distribution, filter_NAPRJ_dropped, of the indicator to better understand how closely the imputed distribution matches the original. <br><br>\n",
    "<em><span style='color:gainsboro'> ------------------------------------------------------------------------------------------------------------------------------------------------------------------------------------</em><br>"
   ]
  },
  {
   "cell_type": "code",
   "execution_count": null,
   "metadata": {},
   "outputs": [],
   "source": [
    "# Calculating the indicator's mode\n",
    "mode_1 = filter_NAPRJ_dropped['Improved water source (% of population with access)'].mode().item()\n",
    "\n",
    "\n",
    "# Imputing the mode\n",
    "improved_water_source_mode = mode_1\n",
    "\n",
    "\n",
    "# Filling the indicator NaN value with mode\n",
    "filter_NAPRJ['Improved water source (% of population with access)'].fillna(value = improved_water_source_mode,\n",
    "                         inplace = True)\n",
    "\n",
    "\n",
    "##############################################################################\n",
    "############# Comparing the original and the imputed distribution #############\n",
    "##############################################################################\n",
    "\n",
    "\n",
    "# Figure size\n",
    "fig, ax = plt.subplots(figsize = [8, 5],\n",
    "                       sharex = True, # sharing x-axis between the two distributions\n",
    "                       sharey = True) # sharing y-axis between the two distributions\n",
    "\n",
    "\n",
    "# Histogram for improved water source (_dropped)\n",
    "sns.distplot(a     = filter_NAPRJ_dropped['Improved water source (% of population with access)'],\n",
    "             bins  = 'fd',\n",
    "             hist  = True,\n",
    "             kde   = True,\n",
    "             rug   = False,\n",
    "             color = 'steelblue')\n",
    "\n",
    "\n",
    "# Histogram for improved water source (original)\n",
    "sns.distplot(a     = filter_NAPRJ['Improved water source (% of population with access)'],\n",
    "             bins  = 'fd',\n",
    "             hist  = True,\n",
    "             kde   = True,\n",
    "             rug   = False,\n",
    "             color = 'grey')\n",
    "\n",
    "\n",
    "# Adding the plot title\n",
    "plt.title(label = \"Improved water source in Northern Sub-Saharan Africa dataset\\n\")\n",
    "\n",
    "\n",
    "# Adding the x-label\n",
    "plt.xlabel(xlabel = '% of population with water source access')\n",
    "\n",
    "\n",
    "# Adding the y-label\n",
    "plt.ylabel(ylabel = 'Frequency\\n')\n",
    "\n",
    "\n",
    "# Axis ranges\n",
    "plt.xlim(0.0, 150) \n",
    "plt.ylim(0.0, 0.03)\n",
    "\n",
    "\n",
    "# This adds a legend\n",
    "plt.legend(labels =  ['original distribution',\n",
    "                      'imputed distribution'])\n",
    "\n",
    "# Displaying the plot \n",
    "plt.tight_layout()\n",
    "plt.show()"
   ]
  },
  {
   "cell_type": "markdown",
   "metadata": {},
   "source": [
    "<em><span style='color:gainsboro'> ------------------------------------------------------------------------------------------------------------------------------------------------------------------------------------</em><br><br><br><em><span style='color:steelblue'><strong>#2 Strategy<strong></em> <br>\n",
    "<em><span style='color:steelblue'>Imputing missing values with .fillna() </em><br>\n",
    "<br>\n",
    "The second strategy adopted to handle missing values is fill-in the \"Pregnant women receiving prenatal care (%)\" and \"Prevalence of undernourishment (% of population)\" indicator's missing values with external data gathered respectively from IndexMundi and World Bank Group. <br><br> \n",
    "The external investigation has shown that every country in the Northern Sub-Saharan Africa region has \"Pregnant women receiving prenatal care (%)\" data recorded at irregular intervals. For example, \"Pregnant women receiving prenatal care (%)\" data have been registered in Mauritania in 2015, 2011, and 2007, while in Sudan in 2014, 2010, and 2006. Therefore, given the impossibility of comparing the individual countries analyzed on a specific annual basis, calculations have been made based on a five year average of the data recorded between 2010 and 2015 for each state. Once the the five year average has been assessed, it has been loaded in place of each detected missing value as follows. <br> <br> \n",
    "<em><span style='color:gainsboro'> ------------------------------------------------------------------------------------------------------------------------------------------------------------------------------------</em>"
   ]
  },
  {
   "cell_type": "code",
   "execution_count": null,
   "metadata": {},
   "outputs": [],
   "source": [
    "# Filling the indicator's missing values with external data \n",
    "prenatalcare_avg = [91.05, 73.6, 93, 72.45, 61.03, 85.55, 64.45, 76.7, 53.95, 97.05]\n",
    "\n",
    "x = 0\n",
    "\n",
    "while True:\n",
    "    if x > 9:\n",
    "        break\n",
    "    else:\n",
    "        filter_NAPRJ.iloc[x,10] = prenatalcare_avg[x]\n",
    "        x += 1\n",
    "    \n",
    "filter_NAPRJ"
   ]
  },
  {
   "cell_type": "markdown",
   "metadata": {},
   "source": [
    "<em><span style='color:gainsboro'> ------------------------------------------------------------------------------------------------------------------------------------------------------------------------------------</em><br><br>\n",
    "A second external investigation on the  \"Prevalence of undernourishment\" (% of the population) indicator's data has revealed dates discrepancy, widely range between 2010 and 2015. Therefore, to properly fill Sudan's missing value, the mean of Sudan's historical data between 2010 and 2015 has been assessed to be imputed instead of the identified NaN value. <br><br>\n",
    "<em><span style='color:gainsboro'> ------------------------------------------------------------------------------------------------------------------------------------------------------------------------------------</em>"
   ]
  },
  {
   "cell_type": "code",
   "execution_count": null,
   "metadata": {},
   "outputs": [],
   "source": [
    "# Filling the indicator's missing values with external data \n",
    "undernourishment_prevalence = [7.5, 4.6, None, 5.5, 7.9, 9.4, 12.5, 16.6, 40.7, 5.2]\n",
    "x = 0\n",
    "while True:\n",
    "    if x > 9:\n",
    "        break\n",
    "    else:\n",
    "        filter_NAPRJ.iloc[x,11] = undernourishment_prevalence[x]\n",
    "        x += 1\n",
    "    \n",
    "filter_NAPRJ"
   ]
  },
  {
   "cell_type": "markdown",
   "metadata": {},
   "source": [
    "<hr style=\"height:1px;border:none;color:#333;background-color:#333;\" />\n",
    "<hr style=\"height:1px;border:none;color:#333;background-color:#333;\" />\n",
    "<br>\n",
    "<h1><span style='color:steelblue'>Outliers Detection</h1>\n",
    "<br><br><br>\n",
    "<em><span style='color:steelblue'><strong>Maternal Mortality Ratio<strong></em><br><br> \n",
    "In the first boxplot, we signify an outlier threshold adding a vertical line at x=800. We know that data points that will be displayed after x=800 will be considered as outliers. We can see that in this first example, there is an extreme outlier with a number of 1070 which tells us that Chad has the highest number of women dying due to pregnancy-related causes. <br><br>\n",
    "<em><span style='color:gainsboro'> ------------------------------------------------------------------------------------------------------------------------------------------------------------------------------------</em>"
   ]
  },
  {
   "cell_type": "code",
   "execution_count": null,
   "metadata": {},
   "outputs": [],
   "source": [
    "# Figure size\n",
    "fig, ax = plt.subplots(figsize = (15, 5))\n",
    "\n",
    "\n",
    "# Developing the boxplot \n",
    "sns.boxplot(x      = 'Maternal mortality ratio (modeled estimate, per 100,000 live births)',  # x-variable\n",
    "            y      = None,     # optional y-variable\n",
    "            hue    = None,     # optional categorical feature\n",
    "            orient = 'h',      # horizontal or vertical\n",
    "            data   = final_prj_data) # DataFrame where features exist\n",
    "\n",
    "plt.axvline(x = 800,\n",
    "            color = \"red\",\n",
    "            linestyle= '--')\n",
    "\n",
    "# Formatting and displaying the plot\n",
    "plt.title(label = \"\"\"Outliers Detection\n",
    "within the Maternal mortality Ratio \\n\"\"\")\n",
    "plt.xlabel(xlabel = \"\"\"\\n Maternal mortality ratio (modeled estimate, per 100,000 live births)\"\"\")\n",
    "plt.show()"
   ]
  },
  {
   "cell_type": "markdown",
   "metadata": {},
   "source": [
    "<em><span style='color:gainsboro'> ------------------------------------------------------------------------------------------------------------------------------------------------------------------------------------</em>\n",
    "<br><br>\n",
    "<em><span style='color:steelblue'><strong>Pregnant women receiving prenatal care (%)<strong></em><br><br> \n",
    "For the second indicator, Women Receiving Prenatal Care (%), we can see that outliers are in the opposite way, below the mean. This could mean that the data distribution is skewed to the left, as it is shown in the following boxplot. <br><br>\n",
    "<em><span style='color:gainsboro'> ------------------------------------------------------------------------------------------------------------------------------------------------------------------------------------</em>"
   ]
  },
  {
   "cell_type": "code",
   "execution_count": null,
   "metadata": {},
   "outputs": [],
   "source": [
    "# Figure size\n",
    "fig, ax = plt.subplots(figsize = (15, 5))\n",
    "\n",
    "\n",
    "# developing a boxplot for carat\n",
    "sns.boxplot(x      = 'Pregnant women receiving prenatal care (%)',  # x-variable\n",
    "            y      = None,     # optional y-variable\n",
    "            hue    = None,     # optional categorical feature\n",
    "            orient = 'h',      # horizontal or vertical\n",
    "            data   = final_prj_data) # DataFrame where features exist\n",
    "\n",
    "plt.axvline(x = 80,\n",
    "            color = \"red\",\n",
    "            linestyle= '--')\n",
    "\n",
    "# formatting and displaying the plot\n",
    "plt.title(label = \"\"\"Outliers Detection\n",
    "Pregnant women receiving prenatal care (%) \\n\"\"\")\n",
    "plt.xlabel(xlabel = \"\"\"\\n Pregnant women receiving prenatal care (%)\"\"\")\n",
    "plt.show()"
   ]
  },
  {
   "cell_type": "markdown",
   "metadata": {},
   "source": [
    "<hr style=\"height:1px;border:none;color:#333;background-color:#333;\" />\n",
    "<hr style=\"height:1px;border:none;color:#333;background-color:#333;\" />\n",
    "<br>\n",
    "<h1><span style='color:steelblue'>Infant Mortality</h1>\n",
    "<em><span style='color:steelblue'>in Northern Sub-Saharan Africa </em><br>\n",
    "<br><br>\n",
    "<em><span style='color:steelblue'><strong>The Top 5 Features<strong></em> <br>\n",
    "<em><span style='color:gainsboro'> ------------------------------------------------------------------------------------------------------------------------------------------------------------------------------------</em><br>"
   ]
  },
  {
   "cell_type": "code",
   "execution_count": null,
   "metadata": {},
   "outputs": [],
   "source": [
    "# Filtering the top 5 features\n",
    "top_features = filter_NAPRJ.iloc[ :, [0, 5, 7, 8, 10, 11]]\n",
    "top_features # Displaying the top features"
   ]
  },
  {
   "cell_type": "markdown",
   "metadata": {},
   "source": [
    "<em><span style='color:gainsboro'> ------------------------------------------------------------------------------------------------------------------------------------------------------------------------------------</em>\n",
    "<br><br>\n",
    "For the selected top five features:\n",
    "<br>\n",
    "- <em><span style='color:steelblue'>Prevalence of undernourishment</em><br>\n",
    "  From 2014 to 2018, the Northern African region recorded a value of 16.1%, higher than world's average of 8.78;<br><br>\n",
    "- <em><span style='color:steelblue'>Pregnant women receiving pre-natal care(%)</em><br> \n",
    "  In 2016, the Region displayed an average of 76.8%, lower than the last world recorded data of 86.73;<br><br>\n",
    "- <em><span style='color:steelblue'>Improved water source (% population with access)</em><br>\n",
    "  In 2015, the Region had an average of 70.35 in comparison to the world’s access of 91;<br><br>\n",
    "- <em><span style='color:steelblue'>Maternal mortality ratio</em><br>\n",
    "  From 2013 to 2017, with a world average of 219, the Region recorded a  much lower average of 398;<br><br>\n",
    "- <em><span style='color:steelblue'>Mortality rate, infant</em><br>\n",
    "  From 2015 to 2019, the Region's average was 47.39, higher than world’s average of 36.35.<br><br>\n",
    "    \n",
    "In conclusion, what makes Northern Sub-Saharan Africa unique is being predominantly Islamic, where abortion is illegal, which forces women to seek unsafe options to avoid being disgraced or disowned. Moreover, since the Region's geography is shaped by deserts, mountains, highlands, and valleys, it puts several constraints on the accessibility to the improved water sources, increasing the risk of infants contracting water-borne diseases.\n",
    "<br><br><br>\n",
    "<br><em><span style='color:steelblue'><strong>Sudan<strong></em> <br>\n",
    "<em><span style='color:steelblue'>The Representative Country</em> <br><br>\n",
    "From the Python code, Sudan represents \"on average\" the Northern Sub-Saharan African region. \n",
    "The average value of the five selected top features has been measured and compared with the data recorded in each country of the region to understand which state was the nearest to the regional average. \n",
    "Sudan's values ​​are very close to the regional average of three of the top five features. For the remaining two characteristics, Sudan is among the top 3 countries that are closest to the mean. <br><br>\n",
    "<em><span style='color:gainsboro'> ------------------------------------------------------------------------------------------------------------------------------------------------------------------------------------</em><br>"
   ]
  },
  {
   "cell_type": "code",
   "execution_count": null,
   "metadata": {},
   "outputs": [],
   "source": [
    "# Creating a list for country average-count\n",
    "country_list = []\n",
    "\n",
    "# Finding average values for each column category\n",
    "improved_water_source_average = top_features['Improved water source (% of population with access)'].mean()\n",
    "maternal_mortality_average = top_features['Maternal mortality ratio (modeled estimate, per 100,000 live births)'].mean()\n",
    "infant_mortality_average = top_features['Mortality rate, infant (per 1,000 live births)'].mean()\n",
    "prenatal_average = top_features['Pregnant women receiving prenatal care (%)'].mean()\n",
    "prevalence_undernourishment_average = top_features['Prevalence of undernourishment (% of population)'].mean()\n",
    "\n",
    "# Creating new column to find differences between values and average.\n",
    "top_features.loc[:, 'Improved water source (% of population with access) Average Differences'] = abs(filter_NAPRJ.loc[:,'Improved water source (% of population with access)'] - improved_water_source_average)\n",
    "top_features.loc[:, 'Maternal mortality ratio (modeled estimate, per 100,000 live births) Average Differences'] = abs(filter_NAPRJ.loc[:,'Maternal mortality ratio (modeled estimate, per 100,000 live births)'] - maternal_mortality_average)\n",
    "top_features.loc[:, 'Mortality rate, infant (per 1,000 live births) Average Differences'] = abs(filter_NAPRJ.loc[:,'Mortality rate, infant (per 1,000 live births)'] - infant_mortality_average)\n",
    "top_features.loc[:, 'Pregnant women receiving prenatal care (%) Average Differences'] = abs(filter_NAPRJ.loc[:,'Pregnant women receiving prenatal care (%)'] - prenatal_average)\n",
    "top_features.loc[:, 'Prevalence of undernourishment (% of population) Average Differences'] = abs(filter_NAPRJ.loc[:,'Prevalence of undernourishment (% of population)'] - prevalence_undernourishment_average)\n",
    "\n",
    "# Finding the smallest average differences values\n",
    "average_value_improve_water_source = min(top_features.loc[:, 'Improved water source (% of population with access) Average Differences'])\n",
    "average_value_maternal_mortality = min(top_features.loc[:, 'Maternal mortality ratio (modeled estimate, per 100,000 live births) Average Differences'])\n",
    "average_value_infant_mortality = min(top_features.loc[:, 'Mortality rate, infant (per 1,000 live births) Average Differences'])\n",
    "average_value_prenatal = min(top_features.loc[:, 'Pregnant women receiving prenatal care (%) Average Differences'])\n",
    "average_value_prevalence_undernourishment = min(top_features.loc[:, 'Prevalence of undernourishment (% of population) Average Differences'])\n",
    "\n",
    "# Checking the feature is operating properly\n",
    "top_features.iloc[:,[0,6,7,8,9,10]]"
   ]
  },
  {
   "cell_type": "code",
   "execution_count": null,
   "metadata": {},
   "outputs": [],
   "source": [
    "# Looping the whole dataframe to obtained the average country for each category\n",
    "\n",
    "for index, column in top_features.loc[:,:].iterrows():\n",
    "\n",
    "    if top_features.loc[index, 'Improved water source (% of population with access) Average Differences'] == average_value_improve_water_source:\n",
    "        country_list.append(top_features.loc[index, 'Country Name'])\n",
    "        \n",
    "for index, column in top_features.loc[:,:].iterrows():\n",
    "    \n",
    "    if top_features.loc[index, 'Maternal mortality ratio (modeled estimate, per 100,000 live births) Average Differences'] == average_value_maternal_mortality:\n",
    "        country_list.append(top_features.loc[index, 'Country Name'])    \n",
    "\n",
    "for index, column in top_features.loc[:,:].iterrows():\n",
    "    \n",
    "    if top_features.loc[index, 'Mortality rate, infant (per 1,000 live births) Average Differences'] == average_value_infant_mortality:\n",
    "        country_list.append(top_features.loc[index, 'Country Name'])        \n",
    "\n",
    "for index, column in top_features.loc[:,:].iterrows():\n",
    "    \n",
    "    if top_features.loc[index, 'Pregnant women receiving prenatal care (%) Average Differences'] == average_value_prenatal:\n",
    "        country_list.append(top_features.loc[index, 'Country Name'])\n",
    "        \n",
    "for index, column in top_features.loc[:,:].iterrows():\n",
    "    \n",
    "    if top_features.loc[index, 'Prevalence of undernourishment (% of population) Average Differences'] == average_value_prevalence_undernourishment:\n",
    "        country_list.append(top_features.loc[index, 'Country Name'])\n",
    "\n",
    "country_list"
   ]
  },
  {
   "cell_type": "markdown",
   "metadata": {},
   "source": [
    "<hr style=\"height:1px;border:none;color:#333;background-color:#333;\" />\n",
    "<hr style=\"height:1px;border:none;color:#333;background-color:#333;\" />\n",
    "<br>\n",
    "<h1><span style='color:steelblue'>Correlation Analysis</h1>\n",
    "<em><span style='color:steelblue'>A Closer Look into Infant Mortality Key Drivers</em><br><br>\n",
    "<br>\n",
    "\n",
    "To better visualize and understand the relationship between the infant mortality ratio and its key drivers a heatmap has been created.<br><br>\n",
    "<em><span style='color:gainsboro'> ------------------------------------------------------------------------------------------------------------------------------------------------------------------------------------</em><br>"
   ]
  },
  {
   "cell_type": "code",
   "execution_count": null,
   "metadata": {},
   "outputs": [],
   "source": [
    "# Converting top_features correlation matrix into a DataFrame\n",
    "top__features_corr = top_features.iloc[ : , 1 : 6 ].corr(method = 'pearson').round(decimals = 2)\n",
    "\n",
    "# Plot size\n",
    "fig, ax = plt.subplots(figsize=(10,10))\n",
    "\n",
    "\n",
    "# Creating heatmap\n",
    "sns.heatmap(data       = top__features_corr, # the correlation matrix\n",
    "            cmap       = 'Blues',       \n",
    "            square     = True,        \n",
    "            annot      = True,         \n",
    "            linecolor  = 'grey',       \n",
    "            linewidths = 0.2)           \n",
    "\n",
    "\n",
    "# Plot title \n",
    "plt.title(\"\"\" \n",
    "\\n Linear Correlation Heatmap \\n Infant Mortality Ratio in Northern Sub-Saharan Africa \\n\\n\\n\\n \"\"\")\n",
    "\n",
    "# Displaying the plot\n",
    "plt.tight_layout()\n",
    "plt.show()"
   ]
  },
  {
   "cell_type": "markdown",
   "metadata": {},
   "source": [
    "<br><em><span style='color:gainsboro'> ------------------------------------------------------------------------------------------------------------------------------------------------------------------------------------</em><br>\n",
    "<br>\n",
    "By visually analyzing the heatmap, we can conclude that the \"Maternal Mortality Ratio\" and the \"Prevalence of Undernourishment\" indicators are strongly correlated with the \"Mortality Infant Rate\", 0.96 and 0.65 respectively.\n",
    "On the other hand, the \"Improved Water Source\" and the \"Pregnant Women Receiving Prenatal Care\" indicators have a weak correlation, -0.67 and -0.8 respectively."
   ]
  },
  {
   "cell_type": "markdown",
   "metadata": {},
   "source": [
    "<hr style=\"height:1px;border:none;color:#333;background-color:#333;\" />\n",
    "<hr style=\"height:1px;border:none;color:#333;background-color:#333;\" />\n",
    "<br>\n",
    "<h1><span style='color:steelblue'>Sources</h1>\n",
    "<br>\n",
    "\n",
    "- https://www.pwc.com/gx/en/issues/economy/global-economy-watch/north-africa-what-you-need-to-know.html\n",
    "    \n",
    "- https://www.un.org/development/desa/dpad/wp-content/uploads/sites/45/WESP2019_BOOK-CH3-3-africa-en.pdf\n",
    "    \n",
    "- https://apps.who.int/gho/data/view.main.GSWCAH02v\n",
    "    \n",
    "- https://www.cdc.gov/healthywater/global/assessing.html\n",
    "    \n",
    "- https://ourworldindata.org/hunger-and-undernourishment\n",
    "    https://www.ncbi.nlm.nih.gov/books/NBK2288/#:~:text=Causes%20of%20Maternal%20Deaths,first%2024%20hours%20of%20delivery.\n",
    "    \n",
    "- https://www.usaid.gov/sites/default/files/documents/1860/Africa%20Key%20Facts%20and%20Figures.pdf\n",
    "\n",
    "\n",
    "<br>\n",
    "<h1><span style='color:steelblue'> Data Sources</h1>\n",
    "<br>\n",
    "    \n",
    "- https://www.indexmundi.com/facts/indicators/SH.STA.ANVC.ZS/compare#country=dz:td:eg:ly:ml:mr:ma:ne:sd:tn\n",
    "\n",
    "- https://data.worldbank.org/indicator/SN.ITK.DEFC.ZS?end=2018&locations=LY&start=1992\n",
    "    \n",
    "- https://data.worldbank.org/indicator/SN.ITK.DEFC.ZS?end=2018&start=1998\n",
    "    \n",
    "- https://data.worldbank.org/indicator/SN.ITK.DEFC.ZS?end=2018&locations=SD&start=1998\n",
    "    \n",
    "- https://data.worldbank.org/indicator/SN.ITK.DEFC.ZS?end=2018&locations=SD&start=1998"
   ]
  },
  {
   "cell_type": "code",
   "execution_count": null,
   "metadata": {},
   "outputs": [],
   "source": []
  }
 ],
 "metadata": {
  "kernelspec": {
   "display_name": "Python 3",
   "language": "python",
   "name": "python3"
  },
  "language_info": {
   "codemirror_mode": {
    "name": "ipython",
    "version": 3
   },
   "file_extension": ".py",
   "mimetype": "text/x-python",
   "name": "python",
   "nbconvert_exporter": "python",
   "pygments_lexer": "ipython3",
   "version": "3.8.3"
  },
  "toc": {
   "base_numbering": 1,
   "nav_menu": {},
   "number_sections": false,
   "sideBar": true,
   "skip_h1_title": false,
   "title_cell": "Table of Contents",
   "title_sidebar": "Contents",
   "toc_cell": false,
   "toc_position": {},
   "toc_section_display": true,
   "toc_window_display": false
  },
  "varInspector": {
   "cols": {
    "lenName": 16,
    "lenType": 16,
    "lenVar": 40
   },
   "kernels_config": {
    "python": {
     "delete_cmd_postfix": "",
     "delete_cmd_prefix": "del ",
     "library": "var_list.py",
     "varRefreshCmd": "print(var_dic_list())"
    },
    "r": {
     "delete_cmd_postfix": ") ",
     "delete_cmd_prefix": "rm(",
     "library": "var_list.r",
     "varRefreshCmd": "cat(var_dic_list()) "
    }
   },
   "types_to_exclude": [
    "module",
    "function",
    "builtin_function_or_method",
    "instance",
    "_Feature"
   ],
   "window_display": false
  }
 },
 "nbformat": 4,
 "nbformat_minor": 4
}
